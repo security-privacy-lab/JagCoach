{
 "cells": [
  {
   "cell_type": "code",
   "execution_count": 15,
   "metadata": {},
   "outputs": [],
   "source": [
    "import json\n",
    "import numpy as np\n",
    "import os\n",
    "\n",
    "directory = '/home/rudito/Code/Cao_Research/Pipeline'\n",
    "\n",
    "files = os.listdir(directory)\n",
    "\n",
    "baseline_files = [file for file in files if file.startswith('baseline_') and file.endswith('.json')]\n",
    "speech_rate_values = []\n",
    "speech_freq_values = []\n",
    "speech_noise_values = []\n",
    "for filename in baseline_files:\n",
    "    with open(os.path.join(directory, filename), 'r') as file:\n",
    "        for line in file:\n",
    "            # Parse each line as JSON\n",
    "            entry = json.loads(line)\n",
    "            speech_rate_values.append(entry['Speech Rate (Syllables per Sec):'])\n",
    "            speech_freq_values.append(float(entry['Speech Fundamental Frequency STD Deviation:'].strip()))\n",
    "            speech_noise_values.append(float(entry['Speech to Noise Ratio:']))"
   ]
  },
  {
   "cell_type": "code",
   "execution_count": 16,
   "metadata": {},
   "outputs": [],
   "source": [
    "speech_rate_array = np.array(speech_rate_values)\n",
    "speech_freq_array = np.array(speech_freq_values)\n",
    "speech_noise_array = np.array(speech_noise_values)"
   ]
  },
  {
   "cell_type": "code",
   "execution_count": 19,
   "metadata": {},
   "outputs": [],
   "source": [
    "average_speech_rate = np.mean(speech_rate_array)\n",
    "average_speech_freq = np.mean(speech_freq_array)\n",
    "average_speech_noise = np.mean(speech_noise_array)\n",
    "rounded_speech_rate = np.floor(average_speech_rate)\n",
    "rounded_speech_freq = np.round(average_speech_freq, 2)\n",
    "floored_speech_noise = np.floor(average_speech_noise * 10) / 10"
   ]
  },
  {
   "cell_type": "code",
   "execution_count": 20,
   "metadata": {},
   "outputs": [
    {
     "name": "stdout",
     "output_type": "stream",
     "text": [
      "Average Speech Rate: 4.0\n",
      "Average Speech Fundamental Frequency STD Deviation: 51.04\n",
      "Average Speech-to-Noise Ratio: 0.7\n"
     ]
    }
   ],
   "source": [
    "print(\"Average Speech Rate:\", rounded_speech_rate)\n",
    "print(\"Average Speech Fundamental Frequency STD Deviation:\", rounded_speech_freq)\n",
    "print(\"Average Speech-to-Noise Ratio:\", floored_speech_noise)\n"
   ]
  },
  {
   "cell_type": "code",
   "execution_count": null,
   "metadata": {},
   "outputs": [],
   "source": []
  }
 ],
 "metadata": {
  "kernelspec": {
   "display_name": "mediapipe",
   "language": "python",
   "name": "python3"
  },
  "language_info": {
   "codemirror_mode": {
    "name": "ipython",
    "version": 3
   },
   "file_extension": ".py",
   "mimetype": "text/x-python",
   "name": "python",
   "nbconvert_exporter": "python",
   "pygments_lexer": "ipython3",
   "version": "3.11.8"
  }
 },
 "nbformat": 4,
 "nbformat_minor": 2
}
